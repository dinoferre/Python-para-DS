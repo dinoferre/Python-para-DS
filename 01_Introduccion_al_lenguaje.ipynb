{
  "nbformat": 4,
  "nbformat_minor": 0,
  "metadata": {
    "colab": {
      "provenance": [],
      "include_colab_link": true
    },
    "kernelspec": {
      "name": "python3",
      "display_name": "Python 3"
    }
  },
  "cells": [
    {
      "cell_type": "markdown",
      "metadata": {
        "id": "view-in-github",
        "colab_type": "text"
      },
      "source": [
        "<a href=\"https://colab.research.google.com/github/dinoferre/Python-para-DS/blob/main/01_Introduccion_al_lenguaje.ipynb\" target=\"_parent\"><img src=\"https://colab.research.google.com/assets/colab-badge.svg\" alt=\"Open In Colab\"/></a>"
      ]
    },
    {
      "cell_type": "markdown",
      "metadata": {
        "id": "WC_I5dcwsWi5"
      },
      "source": [
        "#**Python para DS - Introducción al Lenguaje**"
      ]
    },
    {
      "cell_type": "code",
      "metadata": {
        "colab": {
          "base_uri": "https://localhost:8080/"
        },
        "id": "c7AzkJvVsNrL",
        "outputId": "9ec925c7-f35e-4c27-c607-8c45f15cf221"
      },
      "source": [
        "# Suma\n",
        "1 + 1"
      ],
      "execution_count": 76,
      "outputs": [
        {
          "output_type": "execute_result",
          "data": {
            "text/plain": [
              "2"
            ]
          },
          "metadata": {},
          "execution_count": 76
        }
      ]
    },
    {
      "cell_type": "code",
      "metadata": {
        "colab": {
          "base_uri": "https://localhost:8080/",
          "height": 35
        },
        "id": "2omT3iZgs-Yk",
        "outputId": "e0eaf350-eda6-4b85-a431-1a221c72162d"
      },
      "source": [
        "# String\n",
        "'Dino'"
      ],
      "execution_count": 77,
      "outputs": [
        {
          "output_type": "execute_result",
          "data": {
            "text/plain": [
              "'Dino'"
            ],
            "application/vnd.google.colaboratory.intrinsic+json": {
              "type": "string"
            }
          },
          "metadata": {},
          "execution_count": 77
        }
      ]
    },
    {
      "cell_type": "code",
      "metadata": {
        "id": "PrqIz20btLEe"
      },
      "source": [
        "# Guardo el nombre en una variable\n",
        "nombre = 'Dino'"
      ],
      "execution_count": 57,
      "outputs": []
    },
    {
      "cell_type": "code",
      "metadata": {
        "colab": {
          "base_uri": "https://localhost:8080/",
          "height": 35
        },
        "id": "9nQdl8yTtkge",
        "outputId": "acf622b1-9f3c-412f-d7d1-b5422f2881c2"
      },
      "source": [
        "# Ejecuto la variable\n",
        "nombre"
      ],
      "execution_count": 59,
      "outputs": [
        {
          "output_type": "execute_result",
          "data": {
            "text/plain": [
              "'Dino'"
            ],
            "application/vnd.google.colaboratory.intrinsic+json": {
              "type": "string"
            }
          },
          "metadata": {},
          "execution_count": 59
        }
      ]
    },
    {
      "cell_type": "code",
      "metadata": {
        "id": "ob1AHxpztqxr"
      },
      "source": [
        "edad = 36"
      ],
      "execution_count": 60,
      "outputs": []
    },
    {
      "cell_type": "code",
      "metadata": {
        "colab": {
          "base_uri": "https://localhost:8080/"
        },
        "id": "j3O3hrEDtuSM",
        "outputId": "e5fcdb81-a761-40a8-e0c6-1f52841f86b2"
      },
      "source": [
        "edad"
      ],
      "execution_count": 61,
      "outputs": [
        {
          "output_type": "execute_result",
          "data": {
            "text/plain": [
              "36"
            ]
          },
          "metadata": {},
          "execution_count": 61
        }
      ]
    },
    {
      "cell_type": "markdown",
      "metadata": {
        "id": "rhDOvB1RvgxO"
      },
      "source": [
        "#Mi primera función"
      ]
    },
    {
      "cell_type": "code",
      "metadata": {
        "colab": {
          "base_uri": "https://localhost:8080/"
        },
        "id": "arEYVFMXtvlV",
        "outputId": "7752ae8f-f5f8-49c3-8f7c-d14298a61641"
      },
      "source": [
        "# Imprimir en consola\n",
        "print('El nombre es Dino y su edad es 36 años')"
      ],
      "execution_count": 64,
      "outputs": [
        {
          "output_type": "stream",
          "name": "stdout",
          "text": [
            "El nombre es Dino y su edad es 36 años\n"
          ]
        }
      ]
    },
    {
      "cell_type": "code",
      "metadata": {
        "colab": {
          "base_uri": "https://localhost:8080/"
        },
        "id": "0tjA8D_EveCX",
        "outputId": "ec3218c7-d8df-4c30-ee7e-cb10e75ea5d6"
      },
      "source": [
        "# Imprimir usando parámetros\n",
        "print(f'El nombre es {nombre} y su edad es {edad} años')"
      ],
      "execution_count": 66,
      "outputs": [
        {
          "output_type": "stream",
          "name": "stdout",
          "text": [
            "El nombre es Dino y su edad es 36 años\n"
          ]
        }
      ]
    },
    {
      "cell_type": "code",
      "metadata": {
        "id": "llJXbTL9wHCN"
      },
      "source": [
        "# Defino función saludar(), le pide al usuario el nombre e imprime en pantalla un mensaje\n",
        "def saludar():\n",
        "  nombre = input('Digite su nombre: ')\n",
        "  print(f'Hola {nombre} sea bienvenid@!!!')"
      ],
      "execution_count": 78,
      "outputs": []
    },
    {
      "cell_type": "code",
      "metadata": {
        "colab": {
          "base_uri": "https://localhost:8080/"
        },
        "id": "BSKXYOkUxDOJ",
        "outputId": "c8c58991-002a-44be-ccef-016c54ac3c34"
      },
      "source": [
        "# LLamo a la función\n",
        "saludar()"
      ],
      "execution_count": 79,
      "outputs": [
        {
          "output_type": "stream",
          "name": "stdout",
          "text": [
            "Digite su nombre: Dino\n",
            "Hola Dino sea bienvenid@!!!\n"
          ]
        }
      ]
    },
    {
      "cell_type": "markdown",
      "metadata": {
        "id": "tRoE33x3Gqyb"
      },
      "source": [
        "# Función con Parámetros"
      ]
    },
    {
      "cell_type": "code",
      "metadata": {
        "id": "r0D26rZOFwE9"
      },
      "source": [
        "nombre = 'Andres'"
      ],
      "execution_count": 70,
      "outputs": []
    },
    {
      "cell_type": "code",
      "metadata": {
        "id": "fhoGutBwF62l"
      },
      "source": [
        "def saludar_con_parametros(nombre):\n",
        "  print(f'Hola {nombre} sea bienvenid@!!!')"
      ],
      "execution_count": 71,
      "outputs": []
    },
    {
      "cell_type": "code",
      "metadata": {
        "colab": {
          "base_uri": "https://localhost:8080/"
        },
        "id": "-uZ0ip7cGVC3",
        "outputId": "e2332a7c-83ab-4f91-9c2f-ca3cafffb6cb"
      },
      "source": [
        "saludar_con_parametros(nombre)"
      ],
      "execution_count": 72,
      "outputs": [
        {
          "output_type": "stream",
          "name": "stdout",
          "text": [
            "Hola Andres sea bienvenid@!!!\n"
          ]
        }
      ]
    },
    {
      "cell_type": "markdown",
      "metadata": {
        "id": "BB28-w3_MpEU"
      },
      "source": [
        "#Condicionales"
      ]
    },
    {
      "cell_type": "code",
      "metadata": {
        "colab": {
          "base_uri": "https://localhost:8080/"
        },
        "id": "V4q2VHLCGn3o",
        "outputId": "4282bf48-7d82-4374-b1f2-ef14b2952bd9"
      },
      "source": [
        "# Función para saber si puede conducir usando el parametro edad\n",
        "edad = 18\n",
        "\n",
        "def verificar_si_puede_conducir(edad):\n",
        "  if edad >= 18:\n",
        "    print(\"Usted tiene edad suficiente para conducir\")\n",
        "  else:\n",
        "    print(\"Usted NO tiene edad suficiente para conducir\")\n",
        "  \n",
        "verificar_si_puede_conducir(edad)"
      ],
      "execution_count": 81,
      "outputs": [
        {
          "output_type": "stream",
          "name": "stdout",
          "text": [
            "Usted tiene edad suficiente para conducir\n"
          ]
        }
      ]
    },
    {
      "cell_type": "markdown",
      "metadata": {
        "id": "ZDlynzWuOIs_"
      },
      "source": [
        "#Condicionales sin parámatro y conversión de tipo de dato"
      ]
    },
    {
      "cell_type": "code",
      "metadata": {
        "colab": {
          "base_uri": "https://localhost:8080/"
        },
        "id": "GO_4pFqoKF2h",
        "outputId": "c5336e9d-9eaa-434f-e8c0-88255e1efbd9"
      },
      "source": [
        "# Función para saber si puede conducir sin parámetro.\n",
        "def verificar_si_puede_conducir_sin_parametro():\n",
        "  edad = input('Digite su edad: ')\n",
        "  edad = int(edad)\n",
        "  if edad >= 18:\n",
        "    print(\"Usted tiene edad suficiente para conducir\")\n",
        "  else:\n",
        "    print(\"Usted NO tiene edad suficiente para conducir\")\n",
        "\n",
        "verificar_si_puede_conducir_sin_parametro()"
      ],
      "execution_count": 82,
      "outputs": [
        {
          "output_type": "stream",
          "name": "stdout",
          "text": [
            "Digite su edad: 15\n",
            "Usted NO tiene edad suficiente para conducir\n"
          ]
        }
      ]
    },
    {
      "cell_type": "markdown",
      "metadata": {
        "id": "uxltwC02YdYw"
      },
      "source": [
        "#Listas"
      ]
    },
    {
      "cell_type": "code",
      "metadata": {
        "id": "fdD31rxOVCue"
      },
      "source": [
        "# Variable edad y nombre\n",
        "edad = 18\n",
        "nombre = 'Christian'"
      ],
      "execution_count": 85,
      "outputs": []
    },
    {
      "cell_type": "code",
      "metadata": {
        "id": "bdwqep_lVHsA"
      },
      "source": [
        "# Lista de edades []\n",
        "edades = [18,15,12,45,50]"
      ],
      "execution_count": 84,
      "outputs": []
    },
    {
      "cell_type": "code",
      "metadata": {
        "colab": {
          "base_uri": "https://localhost:8080/"
        },
        "id": "TD0W8NYrVe9i",
        "outputId": "de14439a-557c-4b19-c34a-fa05d01083ab"
      },
      "source": [
        "edades"
      ],
      "execution_count": 19,
      "outputs": [
        {
          "output_type": "execute_result",
          "data": {
            "text/plain": [
              "[18, 15, 12, 45, 50]"
            ]
          },
          "metadata": {},
          "execution_count": 19
        }
      ]
    },
    {
      "cell_type": "code",
      "metadata": {
        "colab": {
          "base_uri": "https://localhost:8080/"
        },
        "id": "-hA9whqYVhtq",
        "outputId": "5176b62f-87c6-468c-a1a5-81d1ac3284ec"
      },
      "source": [
        "# Tipo de dato\n",
        "type(edad)"
      ],
      "execution_count": 86,
      "outputs": [
        {
          "output_type": "execute_result",
          "data": {
            "text/plain": [
              "int"
            ]
          },
          "metadata": {},
          "execution_count": 86
        }
      ]
    },
    {
      "cell_type": "code",
      "metadata": {
        "colab": {
          "base_uri": "https://localhost:8080/"
        },
        "id": "N5DksdqrVomx",
        "outputId": "4b38d1be-6346-4a99-e03d-e0e7d33d94b9"
      },
      "source": [
        "type(nombre)"
      ],
      "execution_count": 21,
      "outputs": [
        {
          "output_type": "execute_result",
          "data": {
            "text/plain": [
              "str"
            ]
          },
          "metadata": {},
          "execution_count": 21
        }
      ]
    },
    {
      "cell_type": "code",
      "metadata": {
        "colab": {
          "base_uri": "https://localhost:8080/"
        },
        "id": "BcRRsjFjVtIx",
        "outputId": "ffe9dfae-5472-4a77-f4a1-89c59a67c3a4"
      },
      "source": [
        "type(edades)"
      ],
      "execution_count": 22,
      "outputs": [
        {
          "output_type": "execute_result",
          "data": {
            "text/plain": [
              "list"
            ]
          },
          "metadata": {},
          "execution_count": 22
        }
      ]
    },
    {
      "cell_type": "code",
      "metadata": {
        "colab": {
          "base_uri": "https://localhost:8080/"
        },
        "id": "UIqwTTdpVwz6",
        "outputId": "6654c48b-2b8a-4aa0-b8e3-ff7ae99b2dce"
      },
      "source": [
        "edades"
      ],
      "execution_count": 23,
      "outputs": [
        {
          "output_type": "execute_result",
          "data": {
            "text/plain": [
              "[18, 15, 12, 45, 50]"
            ]
          },
          "metadata": {},
          "execution_count": 23
        }
      ]
    },
    {
      "cell_type": "code",
      "metadata": {
        "colab": {
          "base_uri": "https://localhost:8080/"
        },
        "id": "BclPHEjLV_Zf",
        "outputId": "a912f72f-7435-418d-dc5e-a1088e5b63cc"
      },
      "source": [
        "# LLamo a la edad en el indice 2\n",
        "edades[2]"
      ],
      "execution_count": 87,
      "outputs": [
        {
          "output_type": "execute_result",
          "data": {
            "text/plain": [
              "12"
            ]
          },
          "metadata": {},
          "execution_count": 87
        }
      ]
    },
    {
      "cell_type": "code",
      "metadata": {
        "colab": {
          "base_uri": "https://localhost:8080/"
        },
        "id": "vFAT24oxWDXC",
        "outputId": "22a29444-4514-4263-f1ff-eea488ef6026"
      },
      "source": [
        "# [18, 15, 12, 45, 50]\n",
        "#   0   1   2   3   4  \n",
        "edades[1]"
      ],
      "execution_count": 83,
      "outputs": [
        {
          "output_type": "execute_result",
          "data": {
            "text/plain": [
              "15"
            ]
          },
          "metadata": {},
          "execution_count": 83
        }
      ]
    },
    {
      "cell_type": "code",
      "metadata": {
        "colab": {
          "base_uri": "https://localhost:8080/"
        },
        "id": "-QNDZcg-WT7B",
        "outputId": "1c8954bc-f738-475a-9e75-8b6aa82e58a4"
      },
      "source": [
        "# Muestro las edades desde el indice 0 hasta el 2, el 3 queda fuera\n",
        "edades[0:3]"
      ],
      "execution_count": 88,
      "outputs": [
        {
          "output_type": "execute_result",
          "data": {
            "text/plain": [
              "[18, 15, 12]"
            ]
          },
          "metadata": {},
          "execution_count": 88
        }
      ]
    },
    {
      "cell_type": "code",
      "metadata": {
        "colab": {
          "base_uri": "https://localhost:8080/"
        },
        "id": "4BsJPuWFWhFs",
        "outputId": "61d88614-edb6-40d9-961e-fe44cd6f7adc"
      },
      "source": [
        "edades"
      ],
      "execution_count": 27,
      "outputs": [
        {
          "output_type": "execute_result",
          "data": {
            "text/plain": [
              "[18, 15, 12, 45, 50]"
            ]
          },
          "metadata": {},
          "execution_count": 27
        }
      ]
    },
    {
      "cell_type": "code",
      "metadata": {
        "colab": {
          "base_uri": "https://localhost:8080/"
        },
        "id": "9nuQS0ZeWx9r",
        "outputId": "12095b4d-449f-4603-a6fd-12397830efb6"
      },
      "source": [
        "# Mostrar todas las edades\n",
        "edades[:]"
      ],
      "execution_count": 89,
      "outputs": [
        {
          "output_type": "execute_result",
          "data": {
            "text/plain": [
              "[18, 15, 12, 45, 50]"
            ]
          },
          "metadata": {},
          "execution_count": 89
        }
      ]
    },
    {
      "cell_type": "code",
      "metadata": {
        "colab": {
          "base_uri": "https://localhost:8080/"
        },
        "id": "ovI1mwiYW0Qp",
        "outputId": "d89c5949-94fb-41e4-cce1-24ae5b0aea48"
      },
      "source": [
        "# Mostrar desde el indice 1 en adelante\n",
        "edades[1:]"
      ],
      "execution_count": 90,
      "outputs": [
        {
          "output_type": "execute_result",
          "data": {
            "text/plain": [
              "[15, 12, 45, 50]"
            ]
          },
          "metadata": {},
          "execution_count": 90
        }
      ]
    },
    {
      "cell_type": "code",
      "metadata": {
        "colab": {
          "base_uri": "https://localhost:8080/"
        },
        "id": "gGHX5eGoW7ch",
        "outputId": "07dfdecd-0fa4-489c-edfd-d141c1339c27"
      },
      "source": [
        "# [18, 15, 12, 45, 50]\n",
        "#  0   1   2   3   4  \n",
        "#  0  -4  -3  -2   -1   \n",
        "\n",
        "edades[-1]"
      ],
      "execution_count": 30,
      "outputs": [
        {
          "output_type": "execute_result",
          "data": {
            "text/plain": [
              "50"
            ]
          },
          "metadata": {},
          "execution_count": 30
        }
      ]
    },
    {
      "cell_type": "code",
      "metadata": {
        "colab": {
          "base_uri": "https://localhost:8080/"
        },
        "id": "qlB-W161XMpq",
        "outputId": "1f84217d-ccdf-479f-898c-2f992e95bb00"
      },
      "source": [
        "edades[-3]"
      ],
      "execution_count": 31,
      "outputs": [
        {
          "output_type": "execute_result",
          "data": {
            "text/plain": [
              "12"
            ]
          },
          "metadata": {},
          "execution_count": 31
        }
      ]
    },
    {
      "cell_type": "code",
      "metadata": {
        "colab": {
          "base_uri": "https://localhost:8080/"
        },
        "id": "KNh9J5_1XOSK",
        "outputId": "f225557f-9bfe-4bfd-9d72-a753727388b0"
      },
      "source": [
        "edades[2]"
      ],
      "execution_count": 32,
      "outputs": [
        {
          "output_type": "execute_result",
          "data": {
            "text/plain": [
              "12"
            ]
          },
          "metadata": {},
          "execution_count": 32
        }
      ]
    },
    {
      "cell_type": "markdown",
      "metadata": {
        "id": "wwQ7rfhJfmSM"
      },
      "source": [
        "#Ciclos y Bucles"
      ]
    },
    {
      "cell_type": "code",
      "metadata": {
        "colab": {
          "base_uri": "https://localhost:8080/"
        },
        "id": "rUFm0Z6nemgx",
        "outputId": "4a27a235-9095-4d42-cd31-589fbeb7bc03"
      },
      "source": [
        "# Bucle fuera de la función\n",
        "edades = [18,15,12,45,50]\n",
        "\n",
        "def verificar_si_puede_conducir(edad):\n",
        "  if edad >= 18:\n",
        "    print(\"Usted tiene edad suficiente para conducir\")\n",
        "  else:\n",
        "    print(\"Usted NO tiene edad suficiente para conducir\")\n",
        "\n",
        "\n",
        "for edad in edades:\n",
        "  verificar_si_puede_conducir(edad)\n"
      ],
      "execution_count": 91,
      "outputs": [
        {
          "output_type": "stream",
          "name": "stdout",
          "text": [
            "Usted tiene edad suficiente para conducir\n",
            "Usted NO tiene edad suficiente para conducir\n",
            "Usted NO tiene edad suficiente para conducir\n",
            "Usted tiene edad suficiente para conducir\n",
            "Usted tiene edad suficiente para conducir\n"
          ]
        }
      ]
    },
    {
      "cell_type": "code",
      "metadata": {
        "colab": {
          "base_uri": "https://localhost:8080/"
        },
        "id": "AuntWkXFfXHI",
        "outputId": "1fb1d849-204d-409f-ae41-a08afc95cd09"
      },
      "source": [
        "# Bucle dentro de la función\n",
        "edades = [18,15,12,45,50]\n",
        "\n",
        "def verificar_si_puede_conducir_con_bucle(edades):\n",
        "  for edad in edades:\n",
        "    if edad >= 18:\n",
        "      print(\"Usted tiene edad suficiente para conducir\")\n",
        "    else:\n",
        "      print(\"Usted NO tiene edad suficiente para conducir\")\n",
        "\n",
        "verificar_si_puede_conducir_con_bucle(edades)"
      ],
      "execution_count": 92,
      "outputs": [
        {
          "output_type": "stream",
          "name": "stdout",
          "text": [
            "Usted tiene edad suficiente para conducir\n",
            "Usted NO tiene edad suficiente para conducir\n",
            "Usted NO tiene edad suficiente para conducir\n",
            "Usted tiene edad suficiente para conducir\n",
            "Usted tiene edad suficiente para conducir\n"
          ]
        }
      ]
    },
    {
      "cell_type": "markdown",
      "metadata": {
        "id": "QlSevuGKLoJ_"
      },
      "source": [
        "#Booleano"
      ]
    },
    {
      "cell_type": "code",
      "metadata": {
        "id": "riw3tM94LnYx"
      },
      "source": [
        "edad = 18"
      ],
      "execution_count": 35,
      "outputs": []
    },
    {
      "cell_type": "code",
      "metadata": {
        "colab": {
          "base_uri": "https://localhost:8080/"
        },
        "id": "YsWnpfP6LteE",
        "outputId": "44f92491-dbb6-477f-e476-23d30c60a40b"
      },
      "source": [
        "edad >= 18"
      ],
      "execution_count": 36,
      "outputs": [
        {
          "output_type": "execute_result",
          "data": {
            "text/plain": [
              "True"
            ]
          },
          "metadata": {},
          "execution_count": 36
        }
      ]
    },
    {
      "cell_type": "code",
      "metadata": {
        "colab": {
          "base_uri": "https://localhost:8080/"
        },
        "id": "9N5Rg77KLwKF",
        "outputId": "040bd6e2-23e6-4a92-8ef7-86ac1272e745"
      },
      "source": [
        "edad < 18"
      ],
      "execution_count": 37,
      "outputs": [
        {
          "output_type": "execute_result",
          "data": {
            "text/plain": [
              "False"
            ]
          },
          "metadata": {},
          "execution_count": 37
        }
      ]
    },
    {
      "cell_type": "code",
      "metadata": {
        "colab": {
          "base_uri": "https://localhost:8080/"
        },
        "id": "8xNll0ANL1KA",
        "outputId": "1653551c-d1dd-4962-c91d-07acfd5aa404"
      },
      "source": [
        "edad == 18"
      ],
      "execution_count": 38,
      "outputs": [
        {
          "output_type": "execute_result",
          "data": {
            "text/plain": [
              "True"
            ]
          },
          "metadata": {},
          "execution_count": 38
        }
      ]
    },
    {
      "cell_type": "code",
      "metadata": {
        "colab": {
          "base_uri": "https://localhost:8080/"
        },
        "id": "LRL_6CsnL6aZ",
        "outputId": "dedaa9f4-4d9d-4980-eab7-1dbf6fcb353a"
      },
      "source": [
        "verificaciones = []\n",
        "edades = [13,15,20]\n",
        "\n",
        "def verificar_si_puede_conducir_bool(verificaciones,edades):\n",
        "  for edad in edades:\n",
        "    if edad >= 18:\n",
        "      verificaciones.append(True)\n",
        "    else:\n",
        "      verificaciones.append(False)\n",
        "  for verificacion in verificaciones:\n",
        "    if verificacion == True:\n",
        "      print('Usted tiene edad suficiente para conducir')\n",
        "    else:\n",
        "      print(\"Usted NO tiene edad suficiente para conducir\")\n",
        "\n",
        "verificar_si_puede_conducir_bool(verificaciones,edades)\n"
      ],
      "execution_count": 39,
      "outputs": [
        {
          "output_type": "stream",
          "name": "stdout",
          "text": [
            "Usted NO tiene edad suficiente para conducir\n",
            "Usted NO tiene edad suficiente para conducir\n",
            "Usted tiene edad suficiente para conducir\n"
          ]
        }
      ]
    },
    {
      "cell_type": "markdown",
      "metadata": {
        "id": "C71oLot5Pn_B"
      },
      "source": [
        "#Lista con diferentes tipos de datos"
      ]
    },
    {
      "cell_type": "code",
      "metadata": {
        "id": "W1-qCyJAM4Yi"
      },
      "source": [
        "persona = ['Mariana',25,True,'México']"
      ],
      "execution_count": 40,
      "outputs": []
    },
    {
      "cell_type": "code",
      "metadata": {
        "colab": {
          "base_uri": "https://localhost:8080/"
        },
        "id": "E_sZ-aNtP34Z",
        "outputId": "89e5627c-d784-42b8-fab9-ffcc9ea1041a"
      },
      "source": [
        "persona"
      ],
      "execution_count": 41,
      "outputs": [
        {
          "output_type": "execute_result",
          "data": {
            "text/plain": [
              "['Mariana', 25, True, 'México']"
            ]
          },
          "metadata": {},
          "execution_count": 41
        }
      ]
    },
    {
      "cell_type": "code",
      "metadata": {
        "colab": {
          "base_uri": "https://localhost:8080/"
        },
        "id": "au3Mnfr7P56h",
        "outputId": "5130d910-8219-437e-d325-73029ab34e4b"
      },
      "source": [
        "for elemento in persona:\n",
        "  print(f'El elemento {elemento} de la lista es del tipo ', type(elemento))"
      ],
      "execution_count": 42,
      "outputs": [
        {
          "output_type": "stream",
          "name": "stdout",
          "text": [
            "El elemento Mariana de la lista es del tipo  <class 'str'>\n",
            "El elemento 25 de la lista es del tipo  <class 'int'>\n",
            "El elemento True de la lista es del tipo  <class 'bool'>\n",
            "El elemento México de la lista es del tipo  <class 'str'>\n"
          ]
        }
      ]
    },
    {
      "cell_type": "markdown",
      "metadata": {
        "id": "C8Vk43ipxZgq"
      },
      "source": [
        "#Importando una Biblioteca"
      ]
    },
    {
      "cell_type": "code",
      "metadata": {
        "id": "mYckhSNVQQ0R"
      },
      "source": [
        "# randrange genera un número entero aleatorio dentro de un rango especificado.\n",
        "# seed se utiliza para inicializar el generador de números aleatorios.\n",
        "from random import randrange, seed"
      ],
      "execution_count": 93,
      "outputs": []
    },
    {
      "cell_type": "code",
      "metadata": {
        "colab": {
          "base_uri": "https://localhost:8080/"
        },
        "id": "4VXcyGRLxl2E",
        "outputId": "4899b346-0698-4e05-d5e4-94c7b79e1262"
      },
      "source": [
        "randrange(0,11)"
      ],
      "execution_count": 44,
      "outputs": [
        {
          "output_type": "execute_result",
          "data": {
            "text/plain": [
              "10"
            ]
          },
          "metadata": {},
          "execution_count": 44
        }
      ]
    },
    {
      "cell_type": "code",
      "metadata": {
        "id": "2yegGUOBx1Jj"
      },
      "source": [
        "notas_matematicas = []"
      ],
      "execution_count": 45,
      "outputs": []
    },
    {
      "cell_type": "code",
      "metadata": {
        "id": "7aCqXtzZ1K0O"
      },
      "source": [
        "# Genero un número aleatorio entre 0 y 10 inclusive.\n",
        "notas_matematicas.append(randrange(0,11))"
      ],
      "execution_count": 46,
      "outputs": []
    },
    {
      "cell_type": "code",
      "metadata": {
        "colab": {
          "base_uri": "https://localhost:8080/"
        },
        "id": "JZsCA2aq1R3g",
        "outputId": "67bc0e9f-6322-4a43-9629-7a67363200c7"
      },
      "source": [
        "notas_matematicas"
      ],
      "execution_count": 47,
      "outputs": [
        {
          "output_type": "execute_result",
          "data": {
            "text/plain": [
              "[5]"
            ]
          },
          "metadata": {},
          "execution_count": 47
        }
      ]
    },
    {
      "cell_type": "code",
      "metadata": {
        "id": "zUKwdJ371TIx"
      },
      "source": [
        "notas_matematicas = []\n",
        "seed(8)\n",
        "for notas in range(6):\n",
        "  notas_matematicas.append(randrange(0,11))"
      ],
      "execution_count": 48,
      "outputs": []
    },
    {
      "cell_type": "code",
      "metadata": {
        "colab": {
          "base_uri": "https://localhost:8080/"
        },
        "id": "1YQjoT3a1ksn",
        "outputId": "1b3e4700-7934-4cdd-dc49-832f380bab16"
      },
      "source": [
        "notas_matematicas"
      ],
      "execution_count": 49,
      "outputs": [
        {
          "output_type": "execute_result",
          "data": {
            "text/plain": [
              "[3, 5, 6, 2, 3, 0]"
            ]
          },
          "metadata": {},
          "execution_count": 49
        }
      ]
    },
    {
      "cell_type": "code",
      "metadata": {
        "colab": {
          "base_uri": "https://localhost:8080/"
        },
        "id": "0WPHrz7K1mVB",
        "outputId": "a49a493f-d5ad-40fd-e381-da803c077f82"
      },
      "source": [
        "len(notas_matematicas)"
      ],
      "execution_count": 50,
      "outputs": [
        {
          "output_type": "execute_result",
          "data": {
            "text/plain": [
              "6"
            ]
          },
          "metadata": {},
          "execution_count": 50
        }
      ]
    },
    {
      "cell_type": "markdown",
      "metadata": {
        "id": "uI4EPxWYXbQr"
      },
      "source": [
        "#Biblioteca Matplotlib para gráficos"
      ]
    },
    {
      "cell_type": "code",
      "metadata": {
        "id": "0MiLbsk-1zsQ"
      },
      "source": [
        "import matplotlib.pyplot as plt "
      ],
      "execution_count": 51,
      "outputs": []
    },
    {
      "cell_type": "code",
      "metadata": {
        "colab": {
          "base_uri": "https://localhost:8080/"
        },
        "id": "4IxrJFspYCB8",
        "outputId": "a85ebff8-384a-4c18-a6bc-657d61d07457"
      },
      "source": [
        "list(range(1,7))"
      ],
      "execution_count": 52,
      "outputs": [
        {
          "output_type": "execute_result",
          "data": {
            "text/plain": [
              "[1, 2, 3, 4, 5, 6]"
            ]
          },
          "metadata": {},
          "execution_count": 52
        }
      ]
    },
    {
      "cell_type": "code",
      "metadata": {
        "colab": {
          "base_uri": "https://localhost:8080/",
          "height": 472
        },
        "id": "OTdKuNkEYNEq",
        "outputId": "23dc6c05-e899-4201-bb89-118275a33500"
      },
      "source": [
        "x = list(range(1,7))\n",
        "y = notas_matematicas\n",
        "\n",
        "plt.plot(x,y, marker = 'o')\n",
        "plt.title('Gráfico de las notas de Matemáticas')\n",
        "plt.xlabel('Pruebas')\n",
        "plt.ylabel('Notas')\n",
        "plt.show()"
      ],
      "execution_count": 53,
      "outputs": [
        {
          "output_type": "display_data",
          "data": {
            "text/plain": [
              "<Figure size 640x480 with 1 Axes>"
            ],
            "image/png": "[encoded data removed]"
          },
          "metadata": {}
        }
      ]
    }
  ]
}