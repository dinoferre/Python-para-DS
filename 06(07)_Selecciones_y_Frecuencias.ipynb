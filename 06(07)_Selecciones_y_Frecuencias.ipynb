{
  "nbformat": 4,
  "nbformat_minor": 0,
  "metadata": {
    "kernelspec": {
      "display_name": "Python 3",
      "language": "python",
      "name": "python3"
    },
    "language_info": {
      "codemirror_mode": {
        "name": "ipython",
        "version": 3
      },
      "file_extension": ".py",
      "mimetype": "text/x-python",
      "name": "python",
      "nbconvert_exporter": "python",
      "pygments_lexer": "ipython3",
      "version": "3.6.4"
    },
    "colab": {
      "provenance": [],
      "include_colab_link": true
    }
  },
  "cells": [
    {
      "cell_type": "markdown",
      "metadata": {
        "id": "view-in-github",
        "colab_type": "text"
      },
      "source": [
        "<a href=\"https://colab.research.google.com/github/dinoferre/Python-para-DS/blob/main/06(07)_Selecciones_y_Frecuencias.ipynb\" target=\"_parent\"><img src=\"https://colab.research.google.com/assets/colab-badge.svg\" alt=\"Open In Colab\"/></a>"
      ]
    },
    {
      "cell_type": "markdown",
      "metadata": {
        "id": "9Dfl0iqaYG3I"
      },
      "source": [
        "# Reporte de Análisis IV"
      ]
    },
    {
      "cell_type": "markdown",
      "metadata": {
        "id": "6XQCs_AsYG3J"
      },
      "source": [
        "## Selecciones y Frecuencias"
      ]
    },
    {
      "cell_type": "code",
      "metadata": {
        "id": "Y3cYKI_MYG3J"
      },
      "source": [
        "import pandas as pd"
      ],
      "execution_count": 1,
      "outputs": []
    },
    {
      "cell_type": "code",
      "metadata": {
        "id": "iomn_MRQYG3K"
      },
      "source": [
        "datos = pd.read_csv('alquiler_residencial.csv', sep = ';')"
      ],
      "execution_count": 2,
      "outputs": []
    },
    {
      "cell_type": "code",
      "metadata": {
        "colab": {
          "base_uri": "https://localhost:8080/",
          "height": 363
        },
        "id": "E78jlQgNYG3K",
        "outputId": "744376fb-ff2f-40aa-ca5c-843fa38c8bf5"
      },
      "source": [
        "datos.head(10)"
      ],
      "execution_count": 3,
      "outputs": [
        {
          "output_type": "execute_result",
          "data": {
            "text/plain": [
              "                 Tipo     Distrito  Cuartos  Vacantes  Suites  Area    Valor  \\\n",
              "0          Habitación    San Borja        1         0       0    40   1700.0   \n",
              "1                Casa   Lurigancho        2         0       1   100   7000.0   \n",
              "2        Departamento   Pachacámac        1         0       0    15    800.0   \n",
              "3        Departamento          Ate        1         0       0    48    800.0   \n",
              "4        Departamento        Comas        2         0       0    50   1300.0   \n",
              "5  Casa en condominio          Ate        5         4       5   750  22000.0   \n",
              "6  Casa en condominio  El Agustino        2         2       0    65   1000.0   \n",
              "7        Departamento      Mi Perú        2         1       0    70   1500.0   \n",
              "8        Departamento    San Borja        3         1       1    90   1500.0   \n",
              "9        Departamento    San Borja        1         0       1    40   2000.0   \n",
              "\n",
              "   Mantenimiento  Impuesto  Valor m2 Tipo Agrupado  \n",
              "0          500.0      60.0     42.50  Departamento  \n",
              "1            0.0       0.0     70.00          Casa  \n",
              "2          390.0      20.0     53.33  Departamento  \n",
              "3          230.0       0.0     16.67  Departamento  \n",
              "4          301.0      17.0     26.00  Departamento  \n",
              "5            0.0       0.0     29.33          Casa  \n",
              "6            0.0       0.0     15.38          Casa  \n",
              "7          642.0      74.0     21.43  Departamento  \n",
              "8          455.0      14.0     16.67  Departamento  \n",
              "9          561.0      50.0     50.00  Departamento  "
            ],
            "text/html": [
              "\n",
              "  <div id=\"df-16a57007-8c86-452f-b0a7-c9490e80ad92\">\n",
              "    <div class=\"colab-df-container\">\n",
              "      <div>\n",
              "<style scoped>\n",
              "    .dataframe tbody tr th:only-of-type {\n",
              "        vertical-align: middle;\n",
              "    }\n",
              "\n",
              "    .dataframe tbody tr th {\n",
              "        vertical-align: top;\n",
              "    }\n",
              "\n",
              "    .dataframe thead th {\n",
              "        text-align: right;\n",
              "    }\n",
              "</style>\n",
              "<table border=\"1\" class=\"dataframe\">\n",
              "  <thead>\n",
              "    <tr style=\"text-align: right;\">\n",
              "      <th></th>\n",
              "      <th>Tipo</th>\n",
              "      <th>Distrito</th>\n",
              "      <th>Cuartos</th>\n",
              "      <th>Vacantes</th>\n",
              "      <th>Suites</th>\n",
              "      <th>Area</th>\n",
              "      <th>Valor</th>\n",
              "      <th>Mantenimiento</th>\n",
              "      <th>Impuesto</th>\n",
              "      <th>Valor m2</th>\n",
              "      <th>Tipo Agrupado</th>\n",
              "    </tr>\n",
              "  </thead>\n",
              "  <tbody>\n",
              "    <tr>\n",
              "      <th>0</th>\n",
              "      <td>Habitación</td>\n",
              "      <td>San Borja</td>\n",
              "      <td>1</td>\n",
              "      <td>0</td>\n",
              "      <td>0</td>\n",
              "      <td>40</td>\n",
              "      <td>1700.0</td>\n",
              "      <td>500.0</td>\n",
              "      <td>60.0</td>\n",
              "      <td>42.50</td>\n",
              "      <td>Departamento</td>\n",
              "    </tr>\n",
              "    <tr>\n",
              "      <th>1</th>\n",
              "      <td>Casa</td>\n",
              "      <td>Lurigancho</td>\n",
              "      <td>2</td>\n",
              "      <td>0</td>\n",
              "      <td>1</td>\n",
              "      <td>100</td>\n",
              "      <td>7000.0</td>\n",
              "      <td>0.0</td>\n",
              "      <td>0.0</td>\n",
              "      <td>70.00</td>\n",
              "      <td>Casa</td>\n",
              "    </tr>\n",
              "    <tr>\n",
              "      <th>2</th>\n",
              "      <td>Departamento</td>\n",
              "      <td>Pachacámac</td>\n",
              "      <td>1</td>\n",
              "      <td>0</td>\n",
              "      <td>0</td>\n",
              "      <td>15</td>\n",
              "      <td>800.0</td>\n",
              "      <td>390.0</td>\n",
              "      <td>20.0</td>\n",
              "      <td>53.33</td>\n",
              "      <td>Departamento</td>\n",
              "    </tr>\n",
              "    <tr>\n",
              "      <th>3</th>\n",
              "      <td>Departamento</td>\n",
              "      <td>Ate</td>\n",
              "      <td>1</td>\n",
              "      <td>0</td>\n",
              "      <td>0</td>\n",
              "      <td>48</td>\n",
              "      <td>800.0</td>\n",
              "      <td>230.0</td>\n",
              "      <td>0.0</td>\n",
              "      <td>16.67</td>\n",
              "      <td>Departamento</td>\n",
              "    </tr>\n",
              "    <tr>\n",
              "      <th>4</th>\n",
              "      <td>Departamento</td>\n",
              "      <td>Comas</td>\n",
              "      <td>2</td>\n",
              "      <td>0</td>\n",
              "      <td>0</td>\n",
              "      <td>50</td>\n",
              "      <td>1300.0</td>\n",
              "      <td>301.0</td>\n",
              "      <td>17.0</td>\n",
              "      <td>26.00</td>\n",
              "      <td>Departamento</td>\n",
              "    </tr>\n",
              "    <tr>\n",
              "      <th>5</th>\n",
              "      <td>Casa en condominio</td>\n",
              "      <td>Ate</td>\n",
              "      <td>5</td>\n",
              "      <td>4</td>\n",
              "      <td>5</td>\n",
              "      <td>750</td>\n",
              "      <td>22000.0</td>\n",
              "      <td>0.0</td>\n",
              "      <td>0.0</td>\n",
              "      <td>29.33</td>\n",
              "      <td>Casa</td>\n",
              "    </tr>\n",
              "    <tr>\n",
              "      <th>6</th>\n",
              "      <td>Casa en condominio</td>\n",
              "      <td>El Agustino</td>\n",
              "      <td>2</td>\n",
              "      <td>2</td>\n",
              "      <td>0</td>\n",
              "      <td>65</td>\n",
              "      <td>1000.0</td>\n",
              "      <td>0.0</td>\n",
              "      <td>0.0</td>\n",
              "      <td>15.38</td>\n",
              "      <td>Casa</td>\n",
              "    </tr>\n",
              "    <tr>\n",
              "      <th>7</th>\n",
              "      <td>Departamento</td>\n",
              "      <td>Mi Perú</td>\n",
              "      <td>2</td>\n",
              "      <td>1</td>\n",
              "      <td>0</td>\n",
              "      <td>70</td>\n",
              "      <td>1500.0</td>\n",
              "      <td>642.0</td>\n",
              "      <td>74.0</td>\n",
              "      <td>21.43</td>\n",
              "      <td>Departamento</td>\n",
              "    </tr>\n",
              "    <tr>\n",
              "      <th>8</th>\n",
              "      <td>Departamento</td>\n",
              "      <td>San Borja</td>\n",
              "      <td>3</td>\n",
              "      <td>1</td>\n",
              "      <td>1</td>\n",
              "      <td>90</td>\n",
              "      <td>1500.0</td>\n",
              "      <td>455.0</td>\n",
              "      <td>14.0</td>\n",
              "      <td>16.67</td>\n",
              "      <td>Departamento</td>\n",
              "    </tr>\n",
              "    <tr>\n",
              "      <th>9</th>\n",
              "      <td>Departamento</td>\n",
              "      <td>San Borja</td>\n",
              "      <td>1</td>\n",
              "      <td>0</td>\n",
              "      <td>1</td>\n",
              "      <td>40</td>\n",
              "      <td>2000.0</td>\n",
              "      <td>561.0</td>\n",
              "      <td>50.0</td>\n",
              "      <td>50.00</td>\n",
              "      <td>Departamento</td>\n",
              "    </tr>\n",
              "  </tbody>\n",
              "</table>\n",
              "</div>\n",
              "      <button class=\"colab-df-convert\" onclick=\"convertToInteractive('df-16a57007-8c86-452f-b0a7-c9490e80ad92')\"\n",
              "              title=\"Convert this dataframe to an interactive table.\"\n",
              "              style=\"display:none;\">\n",
              "        \n",
              "  <svg xmlns=\"http://www.w3.org/2000/svg\" height=\"24px\"viewBox=\"0 0 24 24\"\n",
              "       width=\"24px\">\n",
              "    <path d=\"M0 0h24v24H0V0z\" fill=\"none\"/>\n",
              "    <path d=\"M18.56 5.44l.94 2.06.94-2.06 2.06-.94-2.06-.94-.94-2.06-.94 2.06-2.06.94zm-11 1L8.5 8.5l.94-2.06 2.06-.94-2.06-.94L8.5 2.5l-.94 2.06-2.06.94zm10 10l.94 2.06.94-2.06 2.06-.94-2.06-.94-.94-2.06-.94 2.06-2.06.94z\"/><path d=\"M17.41 7.96l-1.37-1.37c-.4-.4-.92-.59-1.43-.59-.52 0-1.04.2-1.43.59L10.3 9.45l-7.72 7.72c-.78.78-.78 2.05 0 2.83L4 21.41c.39.39.9.59 1.41.59.51 0 1.02-.2 1.41-.59l7.78-7.78 2.81-2.81c.8-.78.8-2.07 0-2.86zM5.41 20L4 18.59l7.72-7.72 1.47 1.35L5.41 20z\"/>\n",
              "  </svg>\n",
              "      </button>\n",
              "      \n",
              "  <style>\n",
              "    .colab-df-container {\n",
              "      display:flex;\n",
              "      flex-wrap:wrap;\n",
              "      gap: 12px;\n",
              "    }\n",
              "\n",
              "    .colab-df-convert {\n",
              "      background-color: #E8F0FE;\n",
              "      border: none;\n",
              "      border-radius: 50%;\n",
              "      cursor: pointer;\n",
              "      display: none;\n",
              "      fill: #1967D2;\n",
              "      height: 32px;\n",
              "      padding: 0 0 0 0;\n",
              "      width: 32px;\n",
              "    }\n",
              "\n",
              "    .colab-df-convert:hover {\n",
              "      background-color: #E2EBFA;\n",
              "      box-shadow: 0px 1px 2px rgba(60, 64, 67, 0.3), 0px 1px 3px 1px rgba(60, 64, 67, 0.15);\n",
              "      fill: #174EA6;\n",
              "    }\n",
              "\n",
              "    [theme=dark] .colab-df-convert {\n",
              "      background-color: #3B4455;\n",
              "      fill: #D2E3FC;\n",
              "    }\n",
              "\n",
              "    [theme=dark] .colab-df-convert:hover {\n",
              "      background-color: #434B5C;\n",
              "      box-shadow: 0px 1px 3px 1px rgba(0, 0, 0, 0.15);\n",
              "      filter: drop-shadow(0px 1px 2px rgba(0, 0, 0, 0.3));\n",
              "      fill: #FFFFFF;\n",
              "    }\n",
              "  </style>\n",
              "\n",
              "      <script>\n",
              "        const buttonEl =\n",
              "          document.querySelector('#df-16a57007-8c86-452f-b0a7-c9490e80ad92 button.colab-df-convert');\n",
              "        buttonEl.style.display =\n",
              "          google.colab.kernel.accessAllowed ? 'block' : 'none';\n",
              "\n",
              "        async function convertToInteractive(key) {\n",
              "          const element = document.querySelector('#df-16a57007-8c86-452f-b0a7-c9490e80ad92');\n",
              "          const dataTable =\n",
              "            await google.colab.kernel.invokeFunction('convertToInteractive',\n",
              "                                                     [key], {});\n",
              "          if (!dataTable) return;\n",
              "\n",
              "          const docLinkHtml = 'Like what you see? Visit the ' +\n",
              "            '<a target=\"_blank\" href=https://colab.research.google.com/notebooks/data_table.ipynb>data table notebook</a>'\n",
              "            + ' to learn more about interactive tables.';\n",
              "          element.innerHTML = '';\n",
              "          dataTable['output_type'] = 'display_data';\n",
              "          await google.colab.output.renderOutput(dataTable, element);\n",
              "          const docLink = document.createElement('div');\n",
              "          docLink.innerHTML = docLinkHtml;\n",
              "          element.appendChild(docLink);\n",
              "        }\n",
              "      </script>\n",
              "    </div>\n",
              "  </div>\n",
              "  "
            ]
          },
          "metadata": {},
          "execution_count": 3
        }
      ]
    },
    {
      "cell_type": "code",
      "metadata": {
        "colab": {
          "base_uri": "https://localhost:8080/"
        },
        "id": "PDCqN5FYYG3L",
        "outputId": "bdec6132-69fb-434a-98ff-1a2eaf224a78"
      },
      "source": [
        "# Seleccione solamente los inmuebles clasificados con tipo 'Departamento'\n",
        "seleccion = datos['Tipo'] == 'Departamento'\n",
        "n1 = datos[seleccion].shape[0]\n",
        "n1"
      ],
      "execution_count": 4,
      "outputs": [
        {
          "output_type": "execute_result",
          "data": {
            "text/plain": [
              "18780"
            ]
          },
          "metadata": {},
          "execution_count": 4
        }
      ]
    },
    {
      "cell_type": "code",
      "metadata": {
        "colab": {
          "base_uri": "https://localhost:8080/"
        },
        "id": "JWFXww0bYG3L",
        "outputId": "b94a676d-8f7e-4e1c-ce84-2f55a59de74e"
      },
      "source": [
        "# Seleccione los inmuebles clasificados con tipos 'Casa', 'Casa en condominio' y 'Casa de villa'\n",
        "seleccion = (datos['Tipo'] == 'Casa') | (datos['Tipo'] == 'Casa en condominio') | (datos['Tipo'] == 'Casa de villa')\n",
        "n2 = datos[seleccion].shape[0]\n",
        "n2"
      ],
      "execution_count": 5,
      "outputs": [
        {
          "output_type": "execute_result",
          "data": {
            "text/plain": [
              "2210"
            ]
          },
          "metadata": {},
          "execution_count": 5
        }
      ]
    },
    {
      "cell_type": "code",
      "metadata": {
        "colab": {
          "base_uri": "https://localhost:8080/"
        },
        "id": "N8HKcqZ5YG3L",
        "outputId": "7af7c6e7-d9e8-4567-fda1-b8c3ed79714c"
      },
      "source": [
        "# Seleccione los inmuebles con área entre 60 y 100 metros cuadrados, incluyendo los limites\n",
        "# 60 <= Area <= 100\n",
        "seleccion = (datos['Area'] >= 60) & (datos['Area'] <= 100)\n",
        "n3 = datos[seleccion].shape[0]\n",
        "n3"
      ],
      "execution_count": 6,
      "outputs": [
        {
          "output_type": "execute_result",
          "data": {
            "text/plain": [
              "8424"
            ]
          },
          "metadata": {},
          "execution_count": 6
        }
      ]
    },
    {
      "cell_type": "code",
      "metadata": {
        "colab": {
          "base_uri": "https://localhost:8080/"
        },
        "id": "F7R2XnVRYG3M",
        "outputId": "929f89b4-8d3b-4f4a-8de0-879358c67451"
      },
      "source": [
        "# Seleccione los inmuebles que tengan por lo menos 4 cuartos y alquiler menor que $2.000,00\n",
        "seleccion = (datos['Cuartos'] >= 4) & (datos['Valor'] < 2000)\n",
        "n4 = datos[seleccion].shape[0]\n",
        "n4"
      ],
      "execution_count": 7,
      "outputs": [
        {
          "output_type": "execute_result",
          "data": {
            "text/plain": [
              "36"
            ]
          },
          "metadata": {},
          "execution_count": 7
        }
      ]
    },
    {
      "cell_type": "code",
      "metadata": {
        "colab": {
          "base_uri": "https://localhost:8080/"
        },
        "id": "rG8I3rWHYG3M",
        "outputId": "960092cb-a22a-463a-a65e-b0e51d8b8232"
      },
      "source": [
        "print(\"Nº de inmuebles clasificados con tipo 'Departamento' -> {}\".format(n1))\n",
        "print(\"Nº de inmuebles clasificados con tipos 'Casa', 'Casa en condominio' y 'Casa de villa' -> {}\".format(n2))\n",
        "print(\"Nº de inmuebles con área entre 60 y 100 metros cuadrados, incluyendo los limites -> {}\".format(n3))\n",
        "print(\"Nº de inmuebles que tengan por lo menos 4 cuartos y alquiler menor que $2.000,00 -> {}\".format(n4))"
      ],
      "execution_count": 8,
      "outputs": [
        {
          "output_type": "stream",
          "name": "stdout",
          "text": [
            "Nº de inmuebles clasificados con tipo 'Departamento' -> 18780\n",
            "Nº de inmuebles clasificados con tipos 'Casa', 'Casa en condominio' y 'Casa de villa' -> 2210\n",
            "Nº de inmuebles con área entre 60 y 100 metros cuadrados, incluyendo los limites -> 8424\n",
            "Nº de inmuebles que tengan por lo menos 4 cuartos y alquiler menor que $2.000,00 -> 36\n"
          ]
        }
      ]
    },
    {
      "cell_type": "code",
      "metadata": {
        "id": "JlgzDyRSYG3N"
      },
      "source": [],
      "execution_count": 8,
      "outputs": []
    }
  ]
}