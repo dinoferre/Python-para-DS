{
  "nbformat": 4,
  "nbformat_minor": 0,
  "metadata": {
    "kernelspec": {
      "display_name": "Python 3",
      "language": "python",
      "name": "python3"
    },
    "language_info": {
      "codemirror_mode": {
        "name": "ipython",
        "version": 3
      },
      "file_extension": ".py",
      "mimetype": "text/x-python",
      "name": "python",
      "nbconvert_exporter": "python",
      "pygments_lexer": "ipython3",
      "version": "3.6.4"
    },
    "colab": {
      "provenance": [],
      "include_colab_link": true
    }
  },
  "cells": [
    {
      "cell_type": "markdown",
      "metadata": {
        "id": "view-in-github",
        "colab_type": "text"
      },
      "source": [
        "<a href=\"https://colab.research.google.com/github/dinoferre/Python-para-DS/blob/main/07(01)_Contadores.ipynb\" target=\"_parent\"><img src=\"https://colab.research.google.com/assets/colab-badge.svg\" alt=\"Open In Colab\"/></a>"
      ]
    },
    {
      "cell_type": "code",
      "metadata": {
        "id": "LiZC9UPDYuhR"
      },
      "source": [
        "import pandas as pd"
      ],
      "execution_count": 6,
      "outputs": []
    },
    {
      "cell_type": "code",
      "metadata": {
        "colab": {
          "base_uri": "https://localhost:8080/"
        },
        "id": "RiYxmffRYuhS",
        "outputId": "6c79e347-fb58-4f87-c64c-ce66794aa573"
      },
      "source": [
        "s = pd.Series(list('asdaesdaesdasesda'))\n",
        "s"
      ],
      "execution_count": 7,
      "outputs": [
        {
          "output_type": "execute_result",
          "data": {
            "text/plain": [
              "0     a\n",
              "1     s\n",
              "2     d\n",
              "3     a\n",
              "4     e\n",
              "5     s\n",
              "6     d\n",
              "7     a\n",
              "8     e\n",
              "9     s\n",
              "10    d\n",
              "11    a\n",
              "12    s\n",
              "13    e\n",
              "14    s\n",
              "15    d\n",
              "16    a\n",
              "dtype: object"
            ]
          },
          "metadata": {},
          "execution_count": 7
        }
      ]
    },
    {
      "cell_type": "code",
      "metadata": {
        "colab": {
          "base_uri": "https://localhost:8080/"
        },
        "id": "52exHT0cYuhT",
        "outputId": "3fe63725-5c41-49fa-b606-54547f5b90a3"
      },
      "source": [
        "s.unique()"
      ],
      "execution_count": 8,
      "outputs": [
        {
          "output_type": "execute_result",
          "data": {
            "text/plain": [
              "array(['a', 's', 'd', 'e'], dtype=object)"
            ]
          },
          "metadata": {},
          "execution_count": 8
        }
      ]
    },
    {
      "cell_type": "code",
      "metadata": {
        "colab": {
          "base_uri": "https://localhost:8080/"
        },
        "id": "LwCnUxQsYuhT",
        "outputId": "5e32e01d-c3a5-41d3-85f3-1dffa070d508"
      },
      "source": [
        "s.value_counts()"
      ],
      "execution_count": 9,
      "outputs": [
        {
          "output_type": "execute_result",
          "data": {
            "text/plain": [
              "a    5\n",
              "s    5\n",
              "d    4\n",
              "e    3\n",
              "dtype: int64"
            ]
          },
          "metadata": {},
          "execution_count": 9
        }
      ]
    },
    {
      "cell_type": "code",
      "metadata": {
        "id": "OZFPs83EYuhU"
      },
      "source": [
        "datos = pd.read_csv('alquiler.csv', sep = ';')"
      ],
      "execution_count": 12,
      "outputs": []
    },
    {
      "cell_type": "code",
      "metadata": {
        "colab": {
          "base_uri": "https://localhost:8080/"
        },
        "id": "JPCF6ChWYuhU",
        "outputId": "4a71d372-fc73-4c96-d586-fa52524a34ff"
      },
      "source": [
        "datos.Tipo.unique()"
      ],
      "execution_count": 13,
      "outputs": [
        {
          "output_type": "execute_result",
          "data": {
            "text/plain": [
              "array(['Habitación', 'Casa', 'Local comercial', 'Departamento',\n",
              "       'Casa en condominio', 'Edificio completo', 'Flat', 'Tienda/Salón',\n",
              "       'Almacén', 'Casa comercial', 'Casa de villa', 'Terreno', 'Cochera',\n",
              "       'Loft', 'Tienda en Centro Comercial', 'Chacra',\n",
              "       'Terreno em condominio', 'Oficina', 'Chalet', 'Studio', 'Hotel',\n",
              "       'Local industrial'], dtype=object)"
            ]
          },
          "metadata": {},
          "execution_count": 13
        }
      ]
    },
    {
      "cell_type": "code",
      "metadata": {
        "colab": {
          "base_uri": "https://localhost:8080/"
        },
        "id": "A2AlL3uQYuhU",
        "outputId": "634d666f-3773-4b8e-adeb-a1cc04f98592"
      },
      "source": [
        "datos.Tipo.value_counts()"
      ],
      "execution_count": 14,
      "outputs": [
        {
          "output_type": "execute_result",
          "data": {
            "text/plain": [
              "Departamento                  19532\n",
              "Local comercial                6815\n",
              "Tienda/Salón                   1426\n",
              "Casa en condominio              996\n",
              "Casa                            967\n",
              "Habitación                      836\n",
              "Almacén                         623\n",
              "Flat                            476\n",
              "Edificio completo               301\n",
              "Casa comercial                  265\n",
              "Casa de villa                   249\n",
              "Tienda en Centro Comercial      247\n",
              "Cochera                          82\n",
              "Terreno                          70\n",
              "Loft                             51\n",
              "Oficina                          10\n",
              "Terreno em condominio             5\n",
              "Studio                            4\n",
              "Hotel                             2\n",
              "Chacra                            1\n",
              "Chalet                            1\n",
              "Local industrial                  1\n",
              "Name: Tipo, dtype: int64"
            ]
          },
          "metadata": {},
          "execution_count": 14
        }
      ]
    },
    {
      "cell_type": "code",
      "metadata": {
        "id": "xzMBHFbGYuhV"
      },
      "source": [],
      "execution_count": 14,
      "outputs": []
    }
  ]
}